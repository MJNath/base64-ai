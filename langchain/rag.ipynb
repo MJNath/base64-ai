{
 "cells": [
  {
   "cell_type": "markdown",
   "id": "57d67d13",
   "metadata": {},
   "source": [
    "## Chargements des documents (Document loaders)"
   ]
  },
  {
   "cell_type": "code",
   "execution_count": null,
   "id": "0f97f35b",
   "metadata": {
    "vscode": {
     "languageId": "plaintext"
    }
   },
   "outputs": [],
   "source": [
    "from langchain_community.document_loaders.csv_loader import CSVLoader\n",
    "\n",
    "loader = CSVLoader(\n",
    "    ...  # <-- Integration specific parameters here\n",
    ")\n",
    "data = loader.load()"
   ]
  },
  {
   "cell_type": "code",
   "execution_count": null,
   "id": "8bf58e74",
   "metadata": {
    "vscode": {
     "languageId": "plaintext"
    }
   },
   "outputs": [],
   "source": [
    "from langchain_core.vectorstores import InMemoryVectorStore\n",
    "# Initialize with an embedding model\n",
    "vector_store = InMemoryVectorStore(embedding=SomeEmbeddingModel())\n",
    "\n",
    "from langchain_core.documents import Document\n",
    "\n",
    "document_1 = Document(\n",
    "    page_content=\"I had chocolate chip pancakes and scrambled eggs for breakfast this morning.\",\n",
    "    metadata={\"source\": \"tweet\"},\n",
    ")\n",
    "\n",
    "document_2 = Document(\n",
    "    page_content=\"The weather forecast for tomorrow is cloudy and overcast, with a high of 62 degrees.\",\n",
    "    metadata={\"source\": \"news\"},\n",
    ")\n",
    "\n",
    "documents = [document_1, document_2]\n",
    "\n",
    "vector_store.add_documents(documents=documents)"
   ]
  },
  {
   "cell_type": "code",
   "execution_count": null,
   "id": "1d015fdb",
   "metadata": {
    "vscode": {
     "languageId": "plaintext"
    }
   },
   "outputs": [],
   "source": []
  },
  {
   "cell_type": "markdown",
   "id": "a4ed53bf",
   "metadata": {},
   "source": [
    "## Découpage de texte (Text splitters)"
   ]
  },
  {
   "cell_type": "markdown",
   "id": "a5946b34",
   "metadata": {},
   "source": [
    "## Vectorisation (Embeddings and Store vectors)"
   ]
  },
  {
   "cell_type": "markdown",
   "id": "32642e1f",
   "metadata": {},
   "source": [
    "## Extraction (Retrieval)"
   ]
  }
 ],
 "metadata": {
  "language_info": {
   "name": "python"
  }
 },
 "nbformat": 4,
 "nbformat_minor": 5
}
