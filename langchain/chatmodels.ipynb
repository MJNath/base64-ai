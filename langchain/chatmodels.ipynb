{
 "cells": [
  {
   "cell_type": "markdown",
   "id": "a416ec85",
   "metadata": {},
   "source": [
    "## 🧠 Qu’est-ce qu’un modèle de chat ?\n",
    "\n",
    "Les **modèles de chat** sont des interfaces qui permettent d'interagir avec des **grands modèles de langage (LLM)** via une série de messages, simulant ainsi une conversation humaine. LangChain fournit une interface cohérente pour travailler avec ces modèles, indépendamment du fournisseur, tout en offrant des fonctionnalités supplémentaires pour le suivi, le débogage et l'optimisation des performances des applications utilisant des LLM\n",
    "\n",
    "---\n",
    "\n",
    "## 🚀 Fonctionnalités principales\n",
    "\n",
    "- 🔧 **Appel d’outils (Tool Calling)** : permet aux modèles d'exécuter des fonctions personnalisées (APIs, outils externes, agents...).\n",
    "- 🧾 **Sortie structurée** : génère des réponses JSON selon un schéma défini.\n",
    "- 🖼️ **Multimodalité** : certains modèles traitent du texte, mais aussi des images ou du son.\n",
    "- 🌊 **Streaming** : renvoie les réponses progressivement, token par token.\n",
    "- 🧺 **Batching** : traitement de plusieurs requêtes en parallèle pour optimiser les appels.\n",
    "\n",
    "---\n",
    "\n",
    "## ⚙️ Paramètres standards des modèles\n",
    "\n",
    "| Paramètre        | Description                                                                 |\n",
    "|------------------|-----------------------------------------------------------------------------|\n",
    "| `model`          | Nom du modèle à utiliser (ex. `gpt-4`, `claude-3-opus`).                    |\n",
    "| `temperature`    | Contrôle la créativité : `0` (réponse fiable) → `1` (réponse imaginative).   |\n",
    "| `max_tokens`     | Nombre maximum de tokens générés.                                           |\n",
    "| `stop`           | Liste de séquences où la génération doit s’arrêter.                         |\n",
    "| `timeout`        | Délai maximal d’attente de réponse (en secondes).                           |\n",
    "| `max_retries`    | Nombre de tentatives en cas d’échec de l’appel.                             |\n",
    "| `api_key`        | Clé API pour authentification.                                              |\n",
    "| `base_url`       | URL personnalisée du fournisseur si nécessaire.                             |\n",
    "| `rate_limiter`   | Contrôle du débit pour éviter les erreurs de quota.                         |\n",
    "\n",
    "---\n",
    "\n",
    "## 🛠️ Méthodes disponibles\n",
    "\n",
    "- `invoke(messages)`  \n",
    "  Appel standard d’un modèle de chat avec une liste de messages.\n",
    "\n",
    "- `stream(messages)`  \n",
    "  Retourne la réponse en temps réel, idéale pour le live chat.\n",
    "\n",
    "- `with_structured_output(schema)`  \n",
    "  Contraint la sortie à respecter un format structuré (ex : dictionnaire Python).\n",
    "\n",
    "- `bind_tools(tools)`  \n",
    "  Connecte des outils externes à utiliser durant la conversation.\n",
    "\n",
    "---\n",
    "\n",
    "## 🔗 Fournisseurs compatibles\n",
    "\n",
    "LangChain supporte les principaux fournisseurs :\n",
    "- **OpenAI**\n",
    "- **Anthropic**\n",
    "- **Azure OpenAI**\n",
    "- **Ollama**\n",
    "- **Amazon Bedrock**\n",
    "- **Google Vertex AI**\n",
    "- **Hugging Face**\n",
    "- **Groq**, etc.\n",
    "\n",
    "\n"
   ]
  },
  {
   "cell_type": "markdown",
   "id": "25d13930",
   "metadata": {},
   "source": [
    "## Modèle d'invocation des chatmodels \n",
    "Par convention : \n",
    "\n",
    "- Le nom du module lors de l'installation est ecrit suivant le modèle suivant : \"langchain-fournisseur\"\n",
    "- Le nom de du module lors de l'importation est ecrit suivant le modèle suivant : \"langchain_fournisseur\"\n",
    "- Le nom de la classe qui fait office d'interface d'appel du modèle est ecrit suivant le modèle suivant : \"ChatFournisseur\""
   ]
  },
  {
   "cell_type": "markdown",
   "id": "a95bd721",
   "metadata": {},
   "source": [
    "### en fonction des fournisseurs"
   ]
  },
  {
   "cell_type": "code",
   "execution_count": null,
   "id": "ea2f2c4a",
   "metadata": {},
   "outputs": [
    {
     "name": "stdout",
     "output_type": "stream",
     "text": [
      "APPEL OPENAI :  Bonjour ! Comment puis-je vous aider aujourd'hui ?\n",
      "-------------\n",
      "APPEL GEMINI :  Bonjour ! Comment puis-je vous aider aujourd'hui ?\n",
      "-------------\n",
      "APPEL DEEPSEEK :  Bonjour ! 😊 Comment puis-je vous aider aujourd'hui ?\n"
     ]
    }
   ],
   "source": [
    "from langchain_openai import ChatOpenAI\n",
    "from langchain_google_genai import ChatGoogleGenerativeAI\n",
    "from langchain_anthropic import ChatAnthropic\n",
    "from langchain_deepseek import ChatDeepSeek\n",
    "from dotenv import load_dotenv\n",
    "import os\n",
    "\n",
    "load_dotenv()\n",
    "\n",
    "\n",
    "llm_openai = ChatOpenAI(model_name=\"gpt-4o-mini\")\n",
    "call_openai = llm_openai.invoke(\"Bonjour\")\n",
    "\n",
    "print(\"APPEL OPENAI : \",call_openai.content)\n",
    "\n",
    "llm_gemini = ChatGoogleGenerativeAI(model=\"gemini-2.0-flash\", api_key=os.getenv(\"GEMINI_API_KEY\"))\n",
    "call_gemini = llm_gemini.invoke(\"Bonjour\")\n",
    "print(\"-------------\")\n",
    "\n",
    "print(\"APPEL GEMINI : \", call_gemini.content)\n",
    "\n",
    "print(\"-------------\")\n",
    "\n",
    "\n",
    "llm_deepseek = ChatDeepSeek(model=\"deepseek-chat\")\n",
    "call_deepseek = llm_deepseek.invoke(\"Bonjour\")\n",
    "print(\"APPEL DEEPSEEK : \",call_deepseek.content)"
   ]
  },
  {
   "cell_type": "markdown",
   "id": "d4031ee3",
   "metadata": {},
   "source": [
    "### en utilisant l'interface abstraite global"
   ]
  },
  {
   "cell_type": "code",
   "execution_count": null,
   "id": "3964ecc6",
   "metadata": {},
   "outputs": [],
   "source": [
    "from langchain.chat_models import init_chat_model\n",
    "\n",
    "def mixture_of_models(model : str, input: str):\n",
    "  if model.startswith(\"gpt\"):\n",
    "    llm_global = init_chat_model(model=model, model_provider=\"openai\")\n",
    "  elif model.startswith(\"deep\"):\n",
    "    llm_global = init_chat_model(model=model, model_provider=\"deepseek\")\n",
    "\n",
    "  return llm_global.invoke(input)\n",
    "\n",
    "\n",
    "call = mixture_of_models(\"gpt-4o-mini\", \"quelle la racine carré de 25\")\n",
    "print(type(call))\n"
   ]
  }
 ],
 "metadata": {
  "kernelspec": {
   "display_name": "env",
   "language": "python",
   "name": "python3"
  },
  "language_info": {
   "codemirror_mode": {
    "name": "ipython",
    "version": 3
   },
   "file_extension": ".py",
   "mimetype": "text/x-python",
   "name": "python",
   "nbconvert_exporter": "python",
   "pygments_lexer": "ipython3",
   "version": "3.12.1"
  }
 },
 "nbformat": 4,
 "nbformat_minor": 5
}
